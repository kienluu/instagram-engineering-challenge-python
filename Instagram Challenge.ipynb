{
 "metadata": {
  "name": ""
 },
 "nbformat": 3,
 "nbformat_minor": 0,
 "worksheets": [
  {
   "cells": [
    {
     "cell_type": "code",
     "collapsed": false,
     "input": [
      "\"\"\"\n",
      "Import libraries for this notebook and other initializations\n",
      "\"\"\"\n",
      "\n",
      "import os\n",
      "from PIL import Image\n",
      "\n",
      "OUTPUT_DIR = 'output'\n",
      "\n",
      "if not os.path.isdir(OUTPUT_DIR):\n",
      "    os.mkdir(OUTPUT_DIR)\n"
     ],
     "language": "python",
     "metadata": {},
     "outputs": [],
     "prompt_number": 7
    },
    {
     "cell_type": "heading",
     "level": 1,
     "metadata": {},
     "source": [
      "Make test strips used for testing shredmaker"
     ]
    },
    {
     "cell_type": "code",
     "collapsed": false,
     "input": [
      "shred_width = 32\n",
      "source_image = Image.open('assets/shredded_images/TokyoPanoramaShredded.png')\n",
      "\n",
      "# img.crop(0,0,1,1) returns a 1 pixel image of the first pixel at 0,0\n",
      "for x in xrange(0, source_image.size[0], shred_width):\n",
      "    shred = source_image.crop((x, 0, x + shred_width, source_image.size[1]))\n",
      "    shred.save('%s/%s.png' % (OUTPUT_DIR, x))\n"
     ],
     "language": "python",
     "metadata": {},
     "outputs": [],
     "prompt_number": 9
    },
    {
     "cell_type": "code",
     "collapsed": false,
     "input": [],
     "language": "python",
     "metadata": {},
     "outputs": []
    }
   ],
   "metadata": {}
  }
 ]
}