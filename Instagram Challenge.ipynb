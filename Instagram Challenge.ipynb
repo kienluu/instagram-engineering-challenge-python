{
 "metadata": {
  "name": ""
 },
 "nbformat": 3,
 "nbformat_minor": 0,
 "worksheets": [
  {
   "cells": [
    {
     "cell_type": "code",
     "collapsed": false,
     "input": [
      "\"\"\"\n",
      "Import libraries for this notebook and other initializations\n",
      "\"\"\"\n",
      "\n",
      "import os\n",
      "from PIL import Image\n",
      "\n",
      "if not os.path.isdir('output'):\n",
      "    os.mkdir('output')\n"
     ],
     "language": "python",
     "metadata": {},
     "outputs": [],
     "prompt_number": 3
    },
    {
     "cell_type": "heading",
     "level": 1,
     "metadata": {},
     "source": [
      "Make test strips used for testing shredmaker"
     ]
    },
    {
     "cell_type": "code",
     "collapsed": false,
     "input": [
      "shred_width = 32\n",
      "source_image = Image.open('assets/shredded_images/TokyoPanoramaShredded.png')\n",
      "\n",
      "for \n"
     ],
     "language": "python",
     "metadata": {},
     "outputs": []
    }
   ],
   "metadata": {}
  }
 ]
}